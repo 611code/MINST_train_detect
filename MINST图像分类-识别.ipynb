{
 "cells": [
  {
   "cell_type": "markdown",
   "metadata": {},
   "source": [
    "# MINST图像分类-识别\n",
    "## 导入包"
   ]
  },
  {
   "cell_type": "code",
   "execution_count": 10,
   "metadata": {},
   "outputs": [],
   "source": [
    "import torch\n",
    "from torch import nn\n",
    "import torchvision\n",
    "from torchvision import transforms\n",
    "from PIL import Image\n",
    "import matplotlib.pyplot as plt\n",
    "import numpy as np\n",
    "import os\n",
    "os.environ['KMP_DUPLICATE_LIB_OK']='True'\n"
   ]
  },
  {
   "cell_type": "code",
   "execution_count": 11,
   "metadata": {},
   "outputs": [
    {
     "name": "stdout",
     "output_type": "stream",
     "text": [
      "<PIL.Image.Image image mode=L size=28x28 at 0x20CB9D80650>\n",
      "28 28 <class 'int'>\n",
      "                                                        \n",
      "                                                        \n",
      "                                                        \n",
      "                                                        \n",
      "                                                        \n",
      "                        # # #                           \n",
      "                        # # # # # # # # #               \n",
      "                        #                 #             \n",
      "                        #                               \n",
      "                        #                               \n",
      "                        #                               \n",
      "                      # #                               \n",
      "                      # # # # # #                       \n",
      "                      # # # # # # #                     \n",
      "                    # # #         # #                   \n",
      "                  # # #           # #                   \n",
      "                    #               #                   \n",
      "                                    #                   \n",
      "                  #               # #                   \n",
      "                # #               # #                   \n",
      "                #               # # #                   \n",
      "                #             # # #                     \n",
      "                # #       # # # #                       \n",
      "                  # # # # # #                           \n",
      "                    # #                                 \n",
      "                                                        \n",
      "                                                        \n",
      "                                                        \n",
      "torch.Size([1, 28, 28])\n"
     ]
    },
    {
     "data": {
      "image/png": "[encoded data removed]",
      "text/plain": [
       "<Figure size 640x480 with 1 Axes>"
      ]
     },
     "metadata": {},
     "output_type": "display_data"
    }
   ],
   "source": [
    "\n",
    "\n",
    "image_path = \"./images/mnistData/mnist_test/5/45.png\"\n",
    "image = Image.open(image_path).convert('L')\n",
    "print(image)\n",
    "height,width = image.size\n",
    "print(height,width,type(height))\n",
    "\n",
    "\n",
    "for h in range(height):\n",
    "    for w in range(width):\n",
    "        if(image.getpixel((w,h))>127):\n",
    "            print(\"#\",end=' ')\n",
    "        else:\n",
    "            print(\" \",end=' ')\n",
    "    print(end='\\n')\n",
    "\n",
    "transform = torchvision.transforms.Compose([torchvision.transforms.Resize((28, 28)),torchvision.transforms.ToTensor()])\n",
    "\n",
    "image = transform(image)\n",
    "print(image.shape)\n",
    "\n",
    "\n",
    "to_pil_image = transforms.ToPILImage()\n",
    "pil_image = to_pil_image(image)\n",
    "plt.imshow(pil_image,cmap=\"gray\")\n",
    "plt.show()"
   ]
  },
  {
   "cell_type": "code",
   "execution_count": 12,
   "metadata": {},
   "outputs": [],
   "source": [
    "from MINST_Model import *"
   ]
  },
  {
   "cell_type": "code",
   "execution_count": 13,
   "metadata": {},
   "outputs": [
    {
     "name": "stdout",
     "output_type": "stream",
     "text": [
      "Net(\n",
      "  (model): Sequential(\n",
      "    (0): Conv2d(1, 4, kernel_size=(5, 5), stride=(1, 1))\n",
      "    (1): MaxPool2d(kernel_size=2, stride=2, padding=0, dilation=1, ceil_mode=False)\n",
      "    (2): Conv2d(4, 8, kernel_size=(5, 5), stride=(1, 1))\n",
      "    (3): MaxPool2d(kernel_size=2, stride=2, padding=0, dilation=1, ceil_mode=False)\n",
      "    (4): Flatten(start_dim=1, end_dim=-1)\n",
      "    (5): Linear(in_features=128, out_features=8, bias=True)\n",
      "    (6): Linear(in_features=8, out_features=10, bias=True)\n",
      "  )\n",
      ")\n",
      "tensor([[  2.7208, -15.7538,  -1.5568,   9.0834, -11.5650,  17.8693,   6.7555,\n",
      "          -4.0134,  10.3992,   4.2283]])\n",
      "5\n"
     ]
    }
   ],
   "source": [
    "classes = ['0','1','2','3','4','5','6','7','8','9']\n",
    "\n",
    "model = torch.load(\"models/test_1/MINST_99.pth\", map_location=torch.device('cpu'))\n",
    "print(model)\n",
    "image = torch.reshape(image, (1, 1, 28, 28))\n",
    "model.eval()\n",
    "with torch.no_grad():\n",
    "    output = model(image)\n",
    "print(output)\n",
    "# 显示结果\n",
    "print(classes[output.argmax(1)])"
   ]
  }
 ],
 "metadata": {
  "kernelspec": {
   "display_name": "PyTorch",
   "language": "python",
   "name": "python3"
  },
  "language_info": {
   "codemirror_mode": {
    "name": "ipython",
    "version": 3
   },
   "file_extension": ".py",
   "mimetype": "text/x-python",
   "name": "python",
   "nbconvert_exporter": "python",
   "pygments_lexer": "ipython3",
   "version": "3.11.9"
  }
 },
 "nbformat": 4,
 "nbformat_minor": 2
}
