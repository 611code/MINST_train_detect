{
 "cells": [
  {
   "cell_type": "markdown",
   "metadata": {},
   "source": [
    "# MINST 手写数字分类\n",
    "项目来源：[PyTorch手写数字识别](https://blog.csdn.net/weixin_45954454/article/details/114519299)\n",
    "## 导入必要的包"
   ]
  },
  {
   "cell_type": "code",
   "execution_count": 2,
   "metadata": {},
   "outputs": [
    {
     "name": "stdout",
     "output_type": "stream",
     "text": [
      "['0 - zero', '1 - one', '2 - two', '3 - three', '4 - four', '5 - five', '6 - six', '7 - seven', '8 - eight', '9 - nine']\n",
      "训练数据集长度60000\n",
      "测试数据集长度10000\n",
      "9\n"
     ]
    }
   ],
   "source": [
    "import os\n",
    "os.environ['KMP_DUPLICATE_LIB_OK']='True'\n",
    "import torchvision \n",
    "\n",
    "train_Data = torchvision.datasets.MNIST('./Data/',train = True,transform = torchvision.transforms.ToTensor(),download = True)\n",
    "test_Data = torchvision.datasets.MNIST('./Data/',train = False,transform = torchvision.transforms.ToTensor(),download = True)\n",
    "\n",
    "\n",
    "print(train_Data.classes)\n",
    "train_data_size = len(train_Data)\n",
    "test_data_size = len(test_Data)\n",
    "print(\"训练数据集长度{}\".format(train_data_size))\n",
    "print(\"测试数据集长度{}\".format(test_data_size))\n",
    "\n",
    "img, label = train_Data[4]\n",
    "print(label)"
   ]
  },
  {
   "cell_type": "code",
   "execution_count": null,
   "metadata": {},
   "outputs": [],
   "source": [
    "from torch.utils.data import DataLoader\n",
    "from PIL import Image\n",
    "import matplotlib.pyplot as plt\n",
    "from torchvision import transforms\n",
    "train_dataloader = DataLoader(train_Data,batch_size=64)\n",
    "test_dataloader = DataLoader(test_Data,batch_size=64)\n",
    "\n",
    "img,target = train_Data[4]\n",
    "print(target,img.shape)\n",
    "\n",
    "to_pil = transforms.ToPILImage()\n",
    "\n",
    "plt_img = to_pil(img)\n",
    "plt.imshow(plt_img,cmap='gray')\n",
    "plt.show()\n"
   ]
  },
  {
   "cell_type": "markdown",
   "metadata": {},
   "source": [
    "## 搭建神经网络\n",
    "![模型框架](images/MINST模型框架.png)"
   ]
  },
  {
   "cell_type": "code",
   "execution_count": null,
   "metadata": {},
   "outputs": [],
   "source": [
    "from MINST_Model import *\n",
    "\n",
    "net = Net()\n",
    "\n",
    "loss_fn = nn.CrossEntropyLoss()\n",
    "\n",
    "learning_rate = 0.01\n",
    "optimizer = torch.optim.SGD(net.parameters(),lr=learning_rate)"
   ]
  },
  {
   "cell_type": "markdown",
   "metadata": {},
   "source": [
    "## 训练及保存模型"
   ]
  },
  {
   "cell_type": "code",
   "execution_count": null,
   "metadata": {},
   "outputs": [],
   "source": [
    "from tqdm import tqdm\n",
    "# 设置训练网络的参数\n",
    "total_train_step = 0    # 训练的次数\n",
    "total_test_step = 0     # 测试的次数\n",
    "epoch = 100              # 训练的轮数\n",
    "\n",
    "history_loss = []\n",
    "history_accuracy = []\n",
    "history_epoch = []\n",
    "for i in range(epoch):\n",
    "    print(\"----------------------第{}轮训练开始----------------------\".format(i+1))\n",
    "    # 开启训练\n",
    "    net.train(True)\n",
    "    for data in tqdm(train_dataloader):\n",
    "        imgs,targets = data\n",
    "        outputs = net(imgs)\n",
    "\n",
    "        loss= loss_fn(outputs,targets)\n",
    "        optimizer.zero_grad()\n",
    "        loss.backward()\n",
    "        optimizer.step()\n",
    "        \n",
    "        total_train_step = total_train_step+1\n",
    "        # if total_train_step %100==0:\n",
    "            # print(\"训练次数：{},loss:{}\".format(total_train_step, loss.item()))\n",
    "    net.eval()\n",
    "    total_test_loss= 0\n",
    "    total_accuracy = 0\n",
    "    with torch.no_grad():\n",
    "        for data in test_dataloader:\n",
    "            imgs,targets = data\n",
    "            output = net(imgs)\n",
    "            loss = loss_fn(output,targets)\n",
    "            total_test_loss = total_test_loss+loss.item()\n",
    "            accuracy = (output.argmax(1) == targets).sum()\n",
    "            total_accuracy = total_accuracy + accuracy\n",
    "    \n",
    "    print(\"整体测试集的loss:{}\".format(total_test_loss))\n",
    "    print(\"整体测试集的正确率：{}\".format(total_accuracy/test_data_size))\n",
    "    total_test_step=total_test_step+1\n",
    "    \n",
    "    torch.save(net,\"models/MINST_{}.pth\".format(i))\n",
    "\t# torch.save(tudui.state_dict(),\"models/tudui_{}.pth\".format(i))\n",
    "    # print(\"模型已保存\")\n",
    "    history_loss.append(total_test_loss)\n",
    "    history_accuracy.append(total_accuracy/test_data_size)\n",
    "    history_epoch.append(i)\n",
    "print(\"训练结束\")"
   ]
  },
  {
   "cell_type": "markdown",
   "metadata": {},
   "source": [
    "## 打印可视化log图"
   ]
  },
  {
   "cell_type": "code",
   "execution_count": null,
   "metadata": {},
   "outputs": [],
   "source": [
    "import matplotlib.pyplot as plt\n",
    "plt.plot(history_epoch,history_accuracy, label='accuracy')\n",
    "plt.show()"
   ]
  }
 ],
 "metadata": {
  "kernelspec": {
   "display_name": "PyTorch",
   "language": "python",
   "name": "python3"
  },
  "language_info": {
   "codemirror_mode": {
    "name": "ipython",
    "version": 3
   },
   "file_extension": ".py",
   "mimetype": "text/x-python",
   "name": "python",
   "nbconvert_exporter": "python",
   "pygments_lexer": "ipython3",
   "version": "3.11.9"
  }
 },
 "nbformat": 4,
 "nbformat_minor": 2
}
